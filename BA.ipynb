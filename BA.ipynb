{
 "cells": [
  {
   "cell_type": "code",
   "execution_count": null,
   "metadata": {
    "vscode": {
     "languageId": "plaintext"
    }
   },
   "outputs": [],
   "source": [
    "import pandas as pd\n",
    "import networkx as nx\n",
    "import matplotlib.pyplot as plt\n",
    "\n",
    "# 1. CSV 파일 읽기\n",
    "# CSV 데이터를 DataFrame으로 저장\n",
    "data = {\n",
    "    \"ID\": [1, 2, 3, 4, 5, 6, 7, 8, 9, 10, 11, 12, 13, 14, 15, 16, 17, 18, 19, 20,\n",
    "           21, 22, 23, 24, 25, 26, 27, 28, 29, 30, 31, 32, 33, 34, 35, 36, 37],\n",
    "    \"Name\": [\"PlanBudge\", \"Audit\", \"PublicRelation\", \"JobEconomy\", \"FutureStrategy\",\n",
    "             \"EnergyNewIndustry\", \"EducationSupport\", \"AthleticsPromotion\", \"Tourism\", \"ArtCulture\",\n",
    "             \"EnvironmentManagement\", \"CityBeautification\", \"ParkGreenspace\", \n",
    "             \"CultureArtSpecializePlanUnit\", \"Construction\", \"SafetyDisaster\", \"City\", \n",
    "             \"TransportationAdmin\", \"BuildinPpermit\", \"WaterSewer\", \"YeongsanpoDevelopPlanOrganization\",\n",
    "             \"Secretary\", \"ResidentAssistance\", \"SocialService\", \"Taxation\", \"Accounting\", \n",
    "             \"CivicService\", \"AgriculturePolicy\", \"HorticultureDistribution\", \"FoodPlan\", \n",
    "             \"AgriculturePromotion\", \"TechnicalSupport\", \"AnimalHusbandry\", \"HealthAdmin\", \n",
    "             \"InfectDiseaseManagement\", \"HealthWellness\", \"BitgaramFacilityManagementOffice\"]\n",
    "}\n",
    "nodes_df = pd.DataFrame(data)\n",
    "\n",
    "# 2. 바라바시-앨버트 네트워크 생성\n",
    "n = len(nodes_df)  # 총 노드 수\n",
    "m = 2  # 새 노드가 연결할 기존 노드의 수\n",
    "ba_graph = nx.barabasi_albert_graph(n, m)\n",
    "\n",
    "# 3. 노드 이름 속성 추가\n",
    "for i, row in nodes_df.iterrows():\n",
    "    ba_graph.nodes[row['ID'] - 1]['name'] = row['Name']  # NetworkX 노드는 0부터 시작\n",
    "\n",
    "# 4. 네트워크 시각화\n",
    "plt.figure(figsize=(12, 8))\n",
    "pos = nx.spring_layout(ba_graph, seed=42)  # 시각화를 위한 레이아웃\n",
    "nx.draw(\n",
    "    ba_graph, pos, with_labels=True, labels=nx.get_node_attributes(ba_graph, 'name'),\n",
    "    node_size=500, node_color=\"lightblue\", font_size=10, font_color=\"darkred\"\n",
    ")\n",
    "plt.title(\"Barabási-Albert Network with Node Names\")\n",
    "plt.show()\n",
    "\n",
    "# 5. 네트워크를 엣지 리스트로 저장\n",
    "nx.write_edgelist(ba_graph, \"ba_network_edges.csv\", delimiter=\",\")\n"
   ]
  }
 ],
 "metadata": {
  "language_info": {
   "name": "python"
  }
 },
 "nbformat": 4,
 "nbformat_minor": 2
}
